{
 "cells": [
  {
   "cell_type": "markdown",
   "metadata": {},
   "source": [
    "Alumno: David Cabezas Berrido\n",
    "\n",
    "DNI: 20079906D"
   ]
  },
  {
   "cell_type": "markdown",
   "metadata": {},
   "source": [
    "# Números naturales. Inducción. Recursividad."
   ]
  },
  {
   "cell_type": "markdown",
   "metadata": {},
   "source": [
    "## Naturales"
   ]
  },
  {
   "cell_type": "markdown",
   "metadata": {},
   "source": [
    "En esta sección vamos a trabajar con $\\mathbb N $\n",
    "\n",
    "Pero antes, una breve introducción a Jupyter notebook:\n",
    "\n",
    "1. La tecla a crea una nueva celda encima de la seleccionada.\n",
    "1. Si pulsamos m, la celda pasa a ser de texto.\n",
    "1. Dos veces d sobre una celda, la elimina.\n",
    "1. Shift + tab o ? al final muestran una pequeña ayuda de las funciones.\n",
    "1. El tabulador autocompleta.\n",
    "1. Jupyter notebook acepta programación en python y LaTex, como puede \n",
    "   comprobarse en la $\\mathbb N $ de naturales o en la enumeración de esta lista.\n",
    "\n",
    "Dicho esto, comencemos."
   ]
  },
  {
   "cell_type": "markdown",
   "metadata": {},
   "source": [
    "En `python` podemos utilizar `isinstance` para determinar si un objeto es un entero"
   ]
  },
  {
   "cell_type": "code",
   "execution_count": 1,
   "metadata": {
    "scrolled": false
   },
   "outputs": [
    {
     "data": {
      "text/plain": [
       "True"
      ]
     },
     "execution_count": 1,
     "metadata": {},
     "output_type": "execute_result"
    }
   ],
   "source": [
    "isinstance(4,int)"
   ]
  },
  {
   "cell_type": "code",
   "execution_count": 2,
   "metadata": {
    "scrolled": true
   },
   "outputs": [
    {
     "data": {
      "text/plain": [
       "False"
      ]
     },
     "execution_count": 2,
     "metadata": {},
     "output_type": "execute_result"
    }
   ],
   "source": [
    "isinstance([3.4],int)"
   ]
  },
  {
   "cell_type": "markdown",
   "metadata": {},
   "source": [
    "Podemos con esta función definir otra que detecte si un número es natural"
   ]
  },
  {
   "cell_type": "code",
   "execution_count": 3,
   "metadata": {},
   "outputs": [],
   "source": [
    "def isnatural(n):\n",
    "    if not isinstance(n,int):         # Descartamos decimales\n",
    "        return False\n",
    "    return n>=0                       # Nos aseguramos de que no sea negativo"
   ]
  },
  {
   "cell_type": "code",
   "execution_count": 4,
   "metadata": {},
   "outputs": [
    {
     "data": {
      "text/plain": [
       "True"
      ]
     },
     "execution_count": 4,
     "metadata": {},
     "output_type": "execute_result"
    }
   ],
   "source": [
    "isnatural(3)"
   ]
  },
  {
   "cell_type": "code",
   "execution_count": 5,
   "metadata": {},
   "outputs": [
    {
     "data": {
      "text/plain": [
       "False"
      ]
     },
     "execution_count": 5,
     "metadata": {},
     "output_type": "execute_result"
    }
   ],
   "source": [
    "isnatural(-3)"
   ]
  },
  {
   "cell_type": "markdown",
   "metadata": {},
   "source": [
    "La funciones sucesor y predecesor quedarían como sigue"
   ]
  },
  {
   "cell_type": "code",
   "execution_count": 6,
   "metadata": {},
   "outputs": [],
   "source": [
    "sucesor = lambda x: x+1   # lambda permite definir funciones rápidamente"
   ]
  },
  {
   "cell_type": "code",
   "execution_count": 7,
   "metadata": {},
   "outputs": [
    {
     "data": {
      "text/plain": [
       "3"
      ]
     },
     "execution_count": 7,
     "metadata": {},
     "output_type": "execute_result"
    }
   ],
   "source": [
    "sucesor(2)"
   ]
  },
  {
   "cell_type": "markdown",
   "metadata": {},
   "source": [
    "Generador de errores:"
   ]
  },
  {
   "cell_type": "code",
   "execution_count": 8,
   "metadata": {},
   "outputs": [],
   "source": [
    "def prec(n):\n",
    "    if not isnatural(n):\n",
    "        raise TypeError(\"El argumento debe ser un número natural\")\n",
    "    if n==0: \n",
    "        raise ValueError(\"El 0 no tiene predecesor\")\n",
    "    return n-1"
   ]
  },
  {
   "cell_type": "code",
   "execution_count": 9,
   "metadata": {},
   "outputs": [
    {
     "data": {
      "text/plain": [
       "0"
      ]
     },
     "execution_count": 9,
     "metadata": {},
     "output_type": "execute_result"
    }
   ],
   "source": [
    "prec(1)"
   ]
  },
  {
   "cell_type": "code",
   "execution_count": 10,
   "metadata": {},
   "outputs": [
    {
     "data": {
      "text/plain": [
       "26"
      ]
     },
     "execution_count": 10,
     "metadata": {},
     "output_type": "execute_result"
    }
   ],
   "source": [
    "prec(27)"
   ]
  },
  {
   "cell_type": "code",
   "execution_count": 11,
   "metadata": {},
   "outputs": [
    {
     "ename": "ValueError",
     "evalue": "El 0 no tiene predecesor",
     "output_type": "error",
     "traceback": [
      "\u001b[0;31m---------------------------------------------------------------------------\u001b[0m",
      "\u001b[0;31mValueError\u001b[0m                                Traceback (most recent call last)",
      "\u001b[0;32m<ipython-input-11-9590c0133dcd>\u001b[0m in \u001b[0;36m<module>\u001b[0;34m()\u001b[0m\n\u001b[0;32m----> 1\u001b[0;31m \u001b[0mprec\u001b[0m\u001b[0;34m(\u001b[0m\u001b[0;36m0\u001b[0m\u001b[0;34m)\u001b[0m\u001b[0;34m\u001b[0m\u001b[0m\n\u001b[0m",
      "\u001b[0;32m<ipython-input-8-3738bfa36bce>\u001b[0m in \u001b[0;36mprec\u001b[0;34m(n)\u001b[0m\n\u001b[1;32m      3\u001b[0m         \u001b[0;32mraise\u001b[0m \u001b[0mTypeError\u001b[0m\u001b[0;34m(\u001b[0m\u001b[0;34m\"El argumento debe ser un número natural\"\u001b[0m\u001b[0;34m)\u001b[0m\u001b[0;34m\u001b[0m\u001b[0m\n\u001b[1;32m      4\u001b[0m     \u001b[0;32mif\u001b[0m \u001b[0mn\u001b[0m\u001b[0;34m==\u001b[0m\u001b[0;36m0\u001b[0m\u001b[0;34m:\u001b[0m\u001b[0;34m\u001b[0m\u001b[0m\n\u001b[0;32m----> 5\u001b[0;31m         \u001b[0;32mraise\u001b[0m \u001b[0mValueError\u001b[0m\u001b[0;34m(\u001b[0m\u001b[0;34m\"El 0 no tiene predecesor\"\u001b[0m\u001b[0;34m)\u001b[0m\u001b[0;34m\u001b[0m\u001b[0m\n\u001b[0m\u001b[1;32m      6\u001b[0m     \u001b[0;32mreturn\u001b[0m \u001b[0mn\u001b[0m\u001b[0;34m-\u001b[0m\u001b[0;36m1\u001b[0m\u001b[0;34m\u001b[0m\u001b[0m\n",
      "\u001b[0;31mValueError\u001b[0m: El 0 no tiene predecesor"
     ]
    }
   ],
   "source": [
    "prec(0)"
   ]
  },
  {
   "cell_type": "markdown",
   "metadata": {},
   "source": [
    "La función predecesor está bastante completa, sin embargo la función sucesor es mejorable, ahora sabemos como hacerla."
   ]
  },
  {
   "cell_type": "code",
   "execution_count": 12,
   "metadata": {},
   "outputs": [
    {
     "data": {
      "text/plain": [
       "-0.5"
      ]
     },
     "execution_count": 12,
     "metadata": {},
     "output_type": "execute_result"
    }
   ],
   "source": [
    "sucesor(-1.5)"
   ]
  },
  {
   "cell_type": "code",
   "execution_count": 13,
   "metadata": {},
   "outputs": [],
   "source": [
    "def suc(n):\n",
    "    if not isnatural(n):\n",
    "        raise TypeError(\"Debe introducir un número natural\")\n",
    "    return n+1"
   ]
  },
  {
   "cell_type": "code",
   "execution_count": 14,
   "metadata": {},
   "outputs": [
    {
     "ename": "TypeError",
     "evalue": "Debe introducir un número natural",
     "output_type": "error",
     "traceback": [
      "\u001b[0;31m---------------------------------------------------------------------------\u001b[0m",
      "\u001b[0;31mTypeError\u001b[0m                                 Traceback (most recent call last)",
      "\u001b[0;32m<ipython-input-14-47c6ceb19517>\u001b[0m in \u001b[0;36m<module>\u001b[0;34m()\u001b[0m\n\u001b[0;32m----> 1\u001b[0;31m \u001b[0msuc\u001b[0m\u001b[0;34m(\u001b[0m\u001b[0;36m1.5\u001b[0m\u001b[0;34m)\u001b[0m\u001b[0;34m\u001b[0m\u001b[0m\n\u001b[0m",
      "\u001b[0;32m<ipython-input-13-37f010725ad0>\u001b[0m in \u001b[0;36msuc\u001b[0;34m(n)\u001b[0m\n\u001b[1;32m      1\u001b[0m \u001b[0;32mdef\u001b[0m \u001b[0msuc\u001b[0m\u001b[0;34m(\u001b[0m\u001b[0mn\u001b[0m\u001b[0;34m)\u001b[0m\u001b[0;34m:\u001b[0m\u001b[0;34m\u001b[0m\u001b[0m\n\u001b[1;32m      2\u001b[0m     \u001b[0;32mif\u001b[0m \u001b[0;32mnot\u001b[0m \u001b[0misnatural\u001b[0m\u001b[0;34m(\u001b[0m\u001b[0mn\u001b[0m\u001b[0;34m)\u001b[0m\u001b[0;34m:\u001b[0m\u001b[0;34m\u001b[0m\u001b[0m\n\u001b[0;32m----> 3\u001b[0;31m         \u001b[0;32mraise\u001b[0m \u001b[0mTypeError\u001b[0m\u001b[0;34m(\u001b[0m\u001b[0;34m\"Debe introducir un número natural\"\u001b[0m\u001b[0;34m)\u001b[0m\u001b[0;34m\u001b[0m\u001b[0m\n\u001b[0m\u001b[1;32m      4\u001b[0m     \u001b[0;32mreturn\u001b[0m \u001b[0mn\u001b[0m\u001b[0;34m+\u001b[0m\u001b[0;36m1\u001b[0m\u001b[0;34m\u001b[0m\u001b[0m\n",
      "\u001b[0;31mTypeError\u001b[0m: Debe introducir un número natural"
     ]
    }
   ],
   "source": [
    "suc(1.5)"
   ]
  },
  {
   "cell_type": "code",
   "execution_count": 15,
   "metadata": {},
   "outputs": [
    {
     "data": {
      "text/plain": [
       "29"
      ]
     },
     "execution_count": 15,
     "metadata": {},
     "output_type": "execute_result"
    }
   ],
   "source": [
    "sucesor(28)"
   ]
  },
  {
   "cell_type": "markdown",
   "metadata": {},
   "source": [
    "Así mejor, ahora podemos definir la suma recursivamente, como hemos visto en teoría"
   ]
  },
  {
   "cell_type": "code",
   "execution_count": 16,
   "metadata": {},
   "outputs": [],
   "source": [
    "def suma(m,n):\n",
    "    if n == 0:\n",
    "        return m\n",
    "    return sucesor(suma(m,prec(n)))"
   ]
  },
  {
   "cell_type": "code",
   "execution_count": 17,
   "metadata": {},
   "outputs": [
    {
     "data": {
      "text/plain": [
       "5"
      ]
     },
     "execution_count": 17,
     "metadata": {},
     "output_type": "execute_result"
    }
   ],
   "source": [
    "suma(2,3)"
   ]
  },
  {
   "cell_type": "code",
   "execution_count": 18,
   "metadata": {},
   "outputs": [
    {
     "data": {
      "text/plain": [
       "1001"
      ]
     },
     "execution_count": 18,
     "metadata": {},
     "output_type": "execute_result"
    }
   ],
   "source": [
    "suma(1000,1)"
   ]
  },
  {
   "cell_type": "markdown",
   "metadata": {},
   "source": [
    "Pero no cantemos victoria tan pronto."
   ]
  },
  {
   "cell_type": "code",
   "execution_count": 19,
   "metadata": {},
   "outputs": [
    {
     "data": {
      "text/plain": [
       "1001"
      ]
     },
     "execution_count": 19,
     "metadata": {},
     "output_type": "execute_result"
    }
   ],
   "source": [
    "suma(1,1000)"
   ]
  },
  {
   "cell_type": "markdown",
   "metadata": {},
   "source": [
    "Definamos también el producto, también de forma poco eficiente"
   ]
  },
  {
   "cell_type": "code",
   "execution_count": 20,
   "metadata": {},
   "outputs": [],
   "source": [
    "def producto(m,n):\n",
    "    if n == 0:\n",
    "        return 0\n",
    "    return suma(producto(m,prec(n)),m)"
   ]
  },
  {
   "cell_type": "code",
   "execution_count": 21,
   "metadata": {},
   "outputs": [
    {
     "data": {
      "text/plain": [
       "42"
      ]
     },
     "execution_count": 21,
     "metadata": {},
     "output_type": "execute_result"
    }
   ],
   "source": [
    "producto(7,6)"
   ]
  },
  {
   "cell_type": "code",
   "execution_count": 22,
   "metadata": {},
   "outputs": [
    {
     "data": {
      "text/plain": [
       "250000"
      ]
     },
     "execution_count": 22,
     "metadata": {},
     "output_type": "execute_result"
    }
   ],
   "source": [
    "producto(500,500)"
   ]
  },
  {
   "cell_type": "markdown",
   "metadata": {},
   "source": [
    "Tal como dijimos, poco eficiente. Veremos la recursividad en profundidad más adelante."
   ]
  },
  {
   "cell_type": "markdown",
   "metadata": {},
   "source": [
    "## Sucesiones, inducción"
   ]
  },
  {
   "cell_type": "markdown",
   "metadata": {},
   "source": [
    "Con la librería `sympy` podemos hacer cálculo simbólico. En particular, podemos calcular el valor de algunas sumas con parámetros."
   ]
  },
  {
   "cell_type": "code",
   "execution_count": 23,
   "metadata": {},
   "outputs": [],
   "source": [
    "import sympy as sp                # Tendre que poner sp. antes de las funciones"
   ]
  },
  {
   "cell_type": "code",
   "execution_count": 24,
   "metadata": {},
   "outputs": [],
   "source": [
    "from sympy import *               # Ya no"
   ]
  },
  {
   "cell_type": "markdown",
   "metadata": {},
   "source": [
    "Cuando vamos a utilizar un símbolo tenemos que declararlo primero. Para el ejemplo que sigue vamos a utilizar `n` como entero e `i` como contador "
   ]
  },
  {
   "cell_type": "code",
   "execution_count": 25,
   "metadata": {},
   "outputs": [],
   "source": [
    "n, i = symbols(\"n, i\", integer = True)"
   ]
  },
  {
   "cell_type": "markdown",
   "metadata": {},
   "source": [
    "### Algunas sumatorias"
   ]
  },
  {
   "cell_type": "markdown",
   "metadata": {},
   "source": [
    "Calculemos por ejemplo $\\sum_{i=1}^n i$"
   ]
  },
  {
   "cell_type": "code",
   "execution_count": 26,
   "metadata": {},
   "outputs": [],
   "source": [
    "s = Sum(i,(i,1,n))"
   ]
  },
  {
   "cell_type": "code",
   "execution_count": 27,
   "metadata": {},
   "outputs": [
    {
     "data": {
      "text/plain": [
       "Sum(i, (i, 1, n))"
      ]
     },
     "execution_count": 27,
     "metadata": {},
     "output_type": "execute_result"
    }
   ],
   "source": [
    "s"
   ]
  },
  {
   "cell_type": "markdown",
   "metadata": {},
   "source": [
    "Si queremos calcular el \"valor\" de esta sumatoria, podemos utilizar el método `doit`"
   ]
  },
  {
   "cell_type": "code",
   "execution_count": 28,
   "metadata": {
    "scrolled": true
   },
   "outputs": [
    {
     "data": {
      "text/plain": [
       "n**2/2 + n/2"
      ]
     },
     "execution_count": 28,
     "metadata": {},
     "output_type": "execute_result"
    }
   ],
   "source": [
    "s.doit()"
   ]
  },
  {
   "cell_type": "code",
   "execution_count": 29,
   "metadata": {},
   "outputs": [
    {
     "name": "stdout",
     "output_type": "stream",
     "text": [
      " 2    \n",
      "n    n\n",
      "── + ─\n",
      "2    2\n"
     ]
    }
   ],
   "source": [
    "pprint(_)   # Esta función lo imprime de forma más bonita, _ se refiere al último resultado obtenido"
   ]
  },
  {
   "cell_type": "code",
   "execution_count": 30,
   "metadata": {},
   "outputs": [
    {
     "data": {
      "text/plain": [
       "2*n"
      ]
     },
     "execution_count": 30,
     "metadata": {},
     "output_type": "execute_result"
    }
   ],
   "source": [
    "summation(2,(i,1,n))    # Esta función lo hace directamente, en este caso estamos sumando 2 n veces"
   ]
  },
  {
   "cell_type": "markdown",
   "metadata": {},
   "source": [
    "Y una suma de potencias"
   ]
  },
  {
   "cell_type": "code",
   "execution_count": 31,
   "metadata": {},
   "outputs": [],
   "source": [
    "s=Sum(i**2,(i,1,n))  # Suma de los cuadrados de 1 a n"
   ]
  },
  {
   "cell_type": "code",
   "execution_count": 32,
   "metadata": {},
   "outputs": [
    {
     "data": {
      "text/plain": [
       "n**3/3 + n**2/2 + n/6"
      ]
     },
     "execution_count": 32,
     "metadata": {},
     "output_type": "execute_result"
    }
   ],
   "source": [
    "s.doit()"
   ]
  },
  {
   "cell_type": "code",
   "execution_count": 33,
   "metadata": {},
   "outputs": [],
   "source": [
    "s=Sum(i**30,(i,1,n))    # Suma de los número del 1 a n elevados a 30"
   ]
  },
  {
   "cell_type": "code",
   "execution_count": 34,
   "metadata": {
    "scrolled": true
   },
   "outputs": [
    {
     "data": {
      "text/plain": [
       "n**31/31 + n**30/2 + 5*n**29/2 - 203*n**27/6 + 1131*n**25/2 - 16965*n**23/2 + 216775*n**21/2 - 2304485*n**19/2 + 19959975*n**17/2 - 137514723*n**15/2 + 731482225*n**13/2 - 31795091601*n**11/22 + 8053785025*n**9/2 - 102818379585*n**7/14 + 15626519181*n**5/2 - 23749461029*n**3/6 + 8615841276005*n/14322"
      ]
     },
     "execution_count": 34,
     "metadata": {},
     "output_type": "execute_result"
    }
   ],
   "source": [
    "s.doit()"
   ]
  },
  {
   "cell_type": "code",
   "execution_count": 35,
   "metadata": {},
   "outputs": [],
   "source": [
    "a = Symbol(\"a\")     "
   ]
  },
  {
   "cell_type": "code",
   "execution_count": 36,
   "metadata": {},
   "outputs": [
    {
     "data": {
      "text/plain": [
       "Piecewise((n, Eq(a, 1)), ((a - a**(n + 1))/(-a + 1), True))"
      ]
     },
     "execution_count": 36,
     "metadata": {},
     "output_type": "execute_result"
    }
   ],
   "source": [
    "Sum(a**i,(i,1,n)).doit()   # a^1 + a^2 + ... + a^n"
   ]
  },
  {
   "cell_type": "markdown",
   "metadata": {},
   "source": [
    "### Inducción"
   ]
  },
  {
   "cell_type": "markdown",
   "metadata": {},
   "source": [
    "Veamos cómo podemos utilizar `sympy` para hacer algunos ejemplos de inducción"
   ]
  },
  {
   "cell_type": "markdown",
   "metadata": {},
   "source": [
    "Por ejemplo, veamos que para todo $6\\mid 7^n-1$ para todo $n\\in \\mathbb N$. Empezamos definiendo una función que nos devuelva $7^n-1$"
   ]
  },
  {
   "cell_type": "code",
   "execution_count": 37,
   "metadata": {},
   "outputs": [],
   "source": [
    "f = lambda n: 7**n -1"
   ]
  },
  {
   "cell_type": "markdown",
   "metadata": {},
   "source": [
    "Primero veamos qué valor tiene en el 0"
   ]
  },
  {
   "cell_type": "code",
   "execution_count": 38,
   "metadata": {},
   "outputs": [
    {
     "data": {
      "text/plain": [
       "0"
      ]
     },
     "execution_count": 38,
     "metadata": {},
     "output_type": "execute_result"
    }
   ],
   "source": [
    "f(0) % 6     # Se cumple para 0"
   ]
  },
  {
   "cell_type": "markdown",
   "metadata": {},
   "source": [
    "Si por hipótesis de inducción $f(n)$ es un múltiplo de 6, entonces para probar que $f(n+1)$ también lo es, bastará demostrar que la diferencia $f(n+1)-f(n)$ es un múltiplo de 6"
   ]
  },
  {
   "cell_type": "code",
   "execution_count": 39,
   "metadata": {
    "scrolled": true
   },
   "outputs": [
    {
     "data": {
      "text/plain": [
       "6*Mod(7**n, 1)"
      ]
     },
     "execution_count": 39,
     "metadata": {},
     "output_type": "execute_result"
    }
   ],
   "source": [
    "simplify((f(n+1)-f(n)) % 6) "
   ]
  },
  {
   "cell_type": "markdown",
   "metadata": {},
   "source": [
    "Esto significa que es igual a 6 por el resto de dividir $7^n$ entre 1, que obviamente será 0, luego $f(n+1)-f(n)$ se diferencian en un múltiplo de 6. Se confirma así que para cualquier $n\\in \\mathbb N$, $7^n -1$ en múltiplo de 6."
   ]
  },
  {
   "cell_type": "markdown",
   "metadata": {},
   "source": [
    "Ahora demostremos que $7^{2n}+16n-1$ es múltiplo de 64 para cuarquier $n\\in \\mathbb N$"
   ]
  },
  {
   "cell_type": "code",
   "execution_count": 40,
   "metadata": {},
   "outputs": [],
   "source": [
    "f = lambda n: 7**(2*n)+16*n-1"
   ]
  },
  {
   "cell_type": "code",
   "execution_count": 41,
   "metadata": {},
   "outputs": [
    {
     "data": {
      "text/plain": [
       "0"
      ]
     },
     "execution_count": 41,
     "metadata": {},
     "output_type": "execute_result"
    }
   ],
   "source": [
    "f(0)"
   ]
  },
  {
   "cell_type": "code",
   "execution_count": 42,
   "metadata": {},
   "outputs": [
    {
     "data": {
      "text/plain": [
       "16*Mod(3*7**(2*n) + 1, 4)"
      ]
     },
     "execution_count": 42,
     "metadata": {},
     "output_type": "execute_result"
    }
   ],
   "source": [
    "simplify((f(n+1)-f(n)) % 64)"
   ]
  },
  {
   "cell_type": "markdown",
   "metadata": {},
   "source": [
    "Esta vez $3\\times 7^{2n}+1$ debe de ser múltiplo de $4$, lo cual no es tan obvio habremos acabado. Nueva inducción:"
   ]
  },
  {
   "cell_type": "code",
   "execution_count": 43,
   "metadata": {},
   "outputs": [],
   "source": [
    "g = lambda n: 3*7**(2*n)+1"
   ]
  },
  {
   "cell_type": "code",
   "execution_count": 44,
   "metadata": {},
   "outputs": [
    {
     "data": {
      "text/plain": [
       "4"
      ]
     },
     "execution_count": 44,
     "metadata": {},
     "output_type": "execute_result"
    }
   ],
   "source": [
    "g(0)"
   ]
  },
  {
   "cell_type": "code",
   "execution_count": 45,
   "metadata": {},
   "outputs": [
    {
     "data": {
      "text/plain": [
       "0"
      ]
     },
     "execution_count": 45,
     "metadata": {},
     "output_type": "execute_result"
    }
   ],
   "source": [
    "simplify((g(n+1)-g(n))%4)"
   ]
  },
  {
   "cell_type": "markdown",
   "metadata": {},
   "source": [
    "$3\\times7^{2n}+1$ es múltiplo de 4 para todo $n\\in \\mathbb N$ y como consecuencia $7^{2n}+16n-1$ lo es de 64"
   ]
  },
  {
   "cell_type": "markdown",
   "metadata": {},
   "source": [
    "Pongamos otro ejemplo: Demostrar que para todo número impar k, el resto de dividir $2^k$ entre 3 es\n",
    "2."
   ]
  },
  {
   "cell_type": "markdown",
   "metadata": {},
   "source": [
    "Podemos escribir ese k como 2n+1"
   ]
  },
  {
   "cell_type": "code",
   "execution_count": 46,
   "metadata": {},
   "outputs": [],
   "source": [
    "f = lambda n: 2**(2*n+1)"
   ]
  },
  {
   "cell_type": "code",
   "execution_count": 47,
   "metadata": {},
   "outputs": [
    {
     "data": {
      "text/plain": [
       "2"
      ]
     },
     "execution_count": 47,
     "metadata": {},
     "output_type": "execute_result"
    }
   ],
   "source": [
    "f(0) % 3      # 0 la cumple"
   ]
  },
  {
   "cell_type": "code",
   "execution_count": 48,
   "metadata": {},
   "outputs": [
    {
     "data": {
      "text/plain": [
       "6*2**(2*n)"
      ]
     },
     "execution_count": 48,
     "metadata": {},
     "output_type": "execute_result"
    }
   ],
   "source": [
    "simplify(f(n+1) - f(n))"
   ]
  },
  {
   "cell_type": "code",
   "execution_count": 49,
   "metadata": {},
   "outputs": [
    {
     "data": {
      "text/plain": [
       "0"
      ]
     },
     "execution_count": 49,
     "metadata": {},
     "output_type": "execute_result"
    }
   ],
   "source": [
    "Mod(_,3)"
   ]
  },
  {
   "cell_type": "markdown",
   "metadata": {},
   "source": [
    "Si $f(n+1)$ y $f(n)$ se diferencian en un múltiplo de 3, el resto de dividir $f(n+1)$ entre 3 será el mismo que el de dividir $f(n)$ entre 3, Por lo que si se cumple para un $n\\in \\mathbb N$, se cumplirá para $n+1$."
   ]
  },
  {
   "cell_type": "markdown",
   "metadata": {},
   "source": [
    "Vamos con el último. Demostrar que la sumatoria de las quintas potencias más las séptimas potencias de los naturales del 1 al n es igual a $2\\times (\\frac{n^2+n}{2})^4$ para cualquier n natural mayor o igual a 1."
   ]
  },
  {
   "cell_type": "code",
   "execution_count": 50,
   "metadata": {},
   "outputs": [],
   "source": [
    "k = Symbol(\"k\",integer=true)"
   ]
  },
  {
   "cell_type": "code",
   "execution_count": 51,
   "metadata": {},
   "outputs": [],
   "source": [
    "f = lambda n: 2*((n**2+n)/2)**4"
   ]
  },
  {
   "cell_type": "code",
   "execution_count": 52,
   "metadata": {},
   "outputs": [],
   "source": [
    "g = lambda n: summation(k**5+k**7,(k,1,n))"
   ]
  },
  {
   "cell_type": "code",
   "execution_count": 53,
   "metadata": {},
   "outputs": [
    {
     "data": {
      "text/plain": [
       "0"
      ]
     },
     "execution_count": 53,
     "metadata": {},
     "output_type": "execute_result"
    }
   ],
   "source": [
    "simplify((f(n+1) - f(n)) - (g(n+1) - g(n)))"
   ]
  },
  {
   "cell_type": "markdown",
   "metadata": {},
   "source": [
    "Luego $f(n+1) - f(n)$ es igual a $g(n+1) - g(n)$. Y suponiendo $f(n) = g(n)$ se llega a $f(n+1) = g(n+1)$. Lo que termina la demostración."
   ]
  },
  {
   "cell_type": "markdown",
   "metadata": {},
   "source": [
    "### Recursividad e iteración"
   ]
  },
  {
   "cell_type": "markdown",
   "metadata": {},
   "source": [
    "Veamos cómo las funciones recursivas se pueden acelerar usando memorización de los pasos anteriores"
   ]
  },
  {
   "cell_type": "code",
   "execution_count": 54,
   "metadata": {},
   "outputs": [],
   "source": [
    "fib = lambda n: n if n<2 else fib(n-2)+fib(n-1)    # Definimos una función recursiva de fibonacci"
   ]
  },
  {
   "cell_type": "code",
   "execution_count": 55,
   "metadata": {},
   "outputs": [
    {
     "data": {
      "text/plain": [
       "55"
      ]
     },
     "execution_count": 55,
     "metadata": {},
     "output_type": "execute_result"
    }
   ],
   "source": [
    "fib(10)"
   ]
  },
  {
   "cell_type": "code",
   "execution_count": 56,
   "metadata": {},
   "outputs": [
    {
     "data": {
      "text/plain": [
       "55"
      ]
     },
     "execution_count": 56,
     "metadata": {},
     "output_type": "execute_result"
    }
   ],
   "source": [
    "fibonacci(10)"
   ]
  },
  {
   "cell_type": "markdown",
   "metadata": {},
   "source": [
    "Parece que funciona igual que la original, pero sólo para el lento tiempo de reacción de las personas y para números pequeños."
   ]
  },
  {
   "cell_type": "code",
   "execution_count": 57,
   "metadata": {},
   "outputs": [],
   "source": [
    "import time   # Muestra tiempo\n"
   ]
  },
  {
   "cell_type": "code",
   "execution_count": 58,
   "metadata": {},
   "outputs": [
    {
     "data": {
      "text/plain": [
       "3.521246910095215"
      ]
     },
     "execution_count": 58,
     "metadata": {},
     "output_type": "execute_result"
    }
   ],
   "source": [
    "start=time.time()\n",
    "fib(35)\n",
    "time.time()-start\n"
   ]
  },
  {
   "cell_type": "code",
   "execution_count": 59,
   "metadata": {},
   "outputs": [
    {
     "data": {
      "text/plain": [
       "0.0009148120880126953"
      ]
     },
     "execution_count": 59,
     "metadata": {},
     "output_type": "execute_result"
    }
   ],
   "source": [
    "start=time.time()\n",
    "fibonacci(35)\n",
    "time.time()-start"
   ]
  },
  {
   "cell_type": "markdown",
   "metadata": {},
   "source": [
    "Un posible solución a este problema es ir almacenando los resultados previos de cálculo, lo cual es conocido como [memoization](http://stackoverflow.com/questions/1988804/what-is-memoization-and-how-can-i-use-it-in-python)"
   ]
  },
  {
   "cell_type": "code",
   "execution_count": 60,
   "metadata": {},
   "outputs": [],
   "source": [
    "import functools"
   ]
  },
  {
   "cell_type": "code",
   "execution_count": 61,
   "metadata": {},
   "outputs": [],
   "source": [
    "@functools.lru_cache(maxsize=None)\n",
    "def fibo(num):\n",
    "    if num < 2:\n",
    "        return num\n",
    "    else:\n",
    "        return fibo(num-1) + fibo(num-2)"
   ]
  },
  {
   "cell_type": "code",
   "execution_count": 62,
   "metadata": {},
   "outputs": [
    {
     "data": {
      "text/plain": [
       "0.00027561187744140625"
      ]
     },
     "execution_count": 62,
     "metadata": {},
     "output_type": "execute_result"
    }
   ],
   "source": [
    "start=time.time()\n",
    "fibo(35)\n",
    "time.time()-start"
   ]
  },
  {
   "cell_type": "markdown",
   "metadata": {},
   "source": [
    "Hemos definido una función recursiva mucho más eficiente, pero requiere de almacenamiento en la memoria, luego es mejor pensar razonadamente y definir una función de fibonacci iterativa."
   ]
  },
  {
   "cell_type": "code",
   "execution_count": 63,
   "metadata": {},
   "outputs": [],
   "source": [
    "def fibon(n):\n",
    "    if (not isnatural(n)) or n == 0:                                        # Generador de errores\n",
    "        raise TypeError(\"Debe introducir un número natural distinto de 0\")\n",
    "    else: \n",
    "        if n == 1 or n == 2:              # Términos 1 y 2 de la sucesión\n",
    "            return 1\n",
    "        else:                             # Cálculo del término n para n >=3\n",
    "            a = 1\n",
    "            b = 1\n",
    "            for i in range(n-2):          # Sumamos los dos anteriores términos n-2 veces\n",
    "                f = a + b                 \n",
    "                b = a                     # El número pasa a ser el anterior\n",
    "                a = f                     # El anterior pasa a ser el anterior del anterior\n",
    "        return f                          # Devuelvo el término n-ésimo\n",
    "        "
   ]
  },
  {
   "cell_type": "code",
   "execution_count": 64,
   "metadata": {},
   "outputs": [
    {
     "data": {
      "text/plain": [
       "9227465"
      ]
     },
     "execution_count": 64,
     "metadata": {},
     "output_type": "execute_result"
    }
   ],
   "source": [
    "fibon(35)"
   ]
  },
  {
   "cell_type": "code",
   "execution_count": 65,
   "metadata": {},
   "outputs": [
    {
     "data": {
      "text/plain": [
       "7.843971252441406e-05"
      ]
     },
     "execution_count": 65,
     "metadata": {},
     "output_type": "execute_result"
    }
   ],
   "source": [
    "start=time.time()\n",
    "fibon(35)\n",
    "time.time()-start"
   ]
  },
  {
   "cell_type": "markdown",
   "metadata": {},
   "source": [
    "Con esto queda confirmado que la recursividad es bastante mala en términos de eficiencia, aunque más sencilla de programar.\n",
    "Antes continuar, definamos una función potencia igual a la vista en teoría."
   ]
  },
  {
   "cell_type": "code",
   "execution_count": 66,
   "metadata": {},
   "outputs": [],
   "source": [
    "def potencia(m,n):\n",
    "    if n == 0:\n",
    "        return 1\n",
    "    else: \n",
    "        return producto(potencia(m,prec(n)),m)"
   ]
  },
  {
   "cell_type": "code",
   "execution_count": 67,
   "metadata": {},
   "outputs": [
    {
     "data": {
      "text/plain": [
       "1"
      ]
     },
     "execution_count": 67,
     "metadata": {},
     "output_type": "execute_result"
    }
   ],
   "source": [
    "potencia(5,0)"
   ]
  },
  {
   "cell_type": "code",
   "execution_count": 68,
   "metadata": {},
   "outputs": [
    {
     "data": {
      "text/plain": [
       "128"
      ]
     },
     "execution_count": 68,
     "metadata": {},
     "output_type": "execute_result"
    }
   ],
   "source": [
    "potencia(2,7)"
   ]
  },
  {
   "cell_type": "markdown",
   "metadata": {},
   "source": [
    "Funciona, pero es una función recursiva que llama a la función producto, también recursiva y que a su vez llama a la función suma, también recursiva. Por lo que esta función es el colmo de la ineficiencia."
   ]
  },
  {
   "cell_type": "code",
   "execution_count": 69,
   "metadata": {},
   "outputs": [
    {
     "ename": "RecursionError",
     "evalue": "maximum recursion depth exceeded in comparison",
     "output_type": "error",
     "traceback": [
      "\u001b[0;31m---------------------------------------------------------------------------\u001b[0m",
      "\u001b[0;31mRecursionError\u001b[0m                            Traceback (most recent call last)",
      "\u001b[0;32m<ipython-input-69-d69a52a1cffb>\u001b[0m in \u001b[0;36m<module>\u001b[0;34m()\u001b[0m\n\u001b[0;32m----> 1\u001b[0;31m \u001b[0mpotencia\u001b[0m\u001b[0;34m(\u001b[0m\u001b[0;36m3\u001b[0m\u001b[0;34m,\u001b[0m\u001b[0;36m9\u001b[0m\u001b[0;34m)\u001b[0m\u001b[0;34m\u001b[0m\u001b[0m\n\u001b[0m",
      "\u001b[0;32m<ipython-input-66-50df5a68fe6d>\u001b[0m in \u001b[0;36mpotencia\u001b[0;34m(m, n)\u001b[0m\n\u001b[1;32m      3\u001b[0m         \u001b[0;32mreturn\u001b[0m \u001b[0;36m1\u001b[0m\u001b[0;34m\u001b[0m\u001b[0m\n\u001b[1;32m      4\u001b[0m     \u001b[0;32melse\u001b[0m\u001b[0;34m:\u001b[0m\u001b[0;34m\u001b[0m\u001b[0m\n\u001b[0;32m----> 5\u001b[0;31m         \u001b[0;32mreturn\u001b[0m \u001b[0mproducto\u001b[0m\u001b[0;34m(\u001b[0m\u001b[0mpotencia\u001b[0m\u001b[0;34m(\u001b[0m\u001b[0mm\u001b[0m\u001b[0;34m,\u001b[0m\u001b[0mprec\u001b[0m\u001b[0;34m(\u001b[0m\u001b[0mn\u001b[0m\u001b[0;34m)\u001b[0m\u001b[0;34m)\u001b[0m\u001b[0;34m,\u001b[0m\u001b[0mm\u001b[0m\u001b[0;34m)\u001b[0m\u001b[0;34m\u001b[0m\u001b[0m\n\u001b[0m",
      "\u001b[0;32m<ipython-input-20-d3dcdeb88d47>\u001b[0m in \u001b[0;36mproducto\u001b[0;34m(m, n)\u001b[0m\n\u001b[1;32m      2\u001b[0m     \u001b[0;32mif\u001b[0m \u001b[0mn\u001b[0m \u001b[0;34m==\u001b[0m \u001b[0;36m0\u001b[0m\u001b[0;34m:\u001b[0m\u001b[0;34m\u001b[0m\u001b[0m\n\u001b[1;32m      3\u001b[0m         \u001b[0;32mreturn\u001b[0m \u001b[0;36m0\u001b[0m\u001b[0;34m\u001b[0m\u001b[0m\n\u001b[0;32m----> 4\u001b[0;31m     \u001b[0;32mreturn\u001b[0m \u001b[0msuma\u001b[0m\u001b[0;34m(\u001b[0m\u001b[0mproducto\u001b[0m\u001b[0;34m(\u001b[0m\u001b[0mm\u001b[0m\u001b[0;34m,\u001b[0m\u001b[0mprec\u001b[0m\u001b[0;34m(\u001b[0m\u001b[0mn\u001b[0m\u001b[0;34m)\u001b[0m\u001b[0;34m)\u001b[0m\u001b[0;34m,\u001b[0m\u001b[0mm\u001b[0m\u001b[0;34m)\u001b[0m\u001b[0;34m\u001b[0m\u001b[0m\n\u001b[0m",
      "\u001b[0;32m<ipython-input-20-d3dcdeb88d47>\u001b[0m in \u001b[0;36mproducto\u001b[0;34m(m, n)\u001b[0m\n\u001b[1;32m      2\u001b[0m     \u001b[0;32mif\u001b[0m \u001b[0mn\u001b[0m \u001b[0;34m==\u001b[0m \u001b[0;36m0\u001b[0m\u001b[0;34m:\u001b[0m\u001b[0;34m\u001b[0m\u001b[0m\n\u001b[1;32m      3\u001b[0m         \u001b[0;32mreturn\u001b[0m \u001b[0;36m0\u001b[0m\u001b[0;34m\u001b[0m\u001b[0m\n\u001b[0;32m----> 4\u001b[0;31m     \u001b[0;32mreturn\u001b[0m \u001b[0msuma\u001b[0m\u001b[0;34m(\u001b[0m\u001b[0mproducto\u001b[0m\u001b[0;34m(\u001b[0m\u001b[0mm\u001b[0m\u001b[0;34m,\u001b[0m\u001b[0mprec\u001b[0m\u001b[0;34m(\u001b[0m\u001b[0mn\u001b[0m\u001b[0;34m)\u001b[0m\u001b[0;34m)\u001b[0m\u001b[0;34m,\u001b[0m\u001b[0mm\u001b[0m\u001b[0;34m)\u001b[0m\u001b[0;34m\u001b[0m\u001b[0m\n\u001b[0m",
      "\u001b[0;32m<ipython-input-20-d3dcdeb88d47>\u001b[0m in \u001b[0;36mproducto\u001b[0;34m(m, n)\u001b[0m\n\u001b[1;32m      2\u001b[0m     \u001b[0;32mif\u001b[0m \u001b[0mn\u001b[0m \u001b[0;34m==\u001b[0m \u001b[0;36m0\u001b[0m\u001b[0;34m:\u001b[0m\u001b[0;34m\u001b[0m\u001b[0m\n\u001b[1;32m      3\u001b[0m         \u001b[0;32mreturn\u001b[0m \u001b[0;36m0\u001b[0m\u001b[0;34m\u001b[0m\u001b[0m\n\u001b[0;32m----> 4\u001b[0;31m     \u001b[0;32mreturn\u001b[0m \u001b[0msuma\u001b[0m\u001b[0;34m(\u001b[0m\u001b[0mproducto\u001b[0m\u001b[0;34m(\u001b[0m\u001b[0mm\u001b[0m\u001b[0;34m,\u001b[0m\u001b[0mprec\u001b[0m\u001b[0;34m(\u001b[0m\u001b[0mn\u001b[0m\u001b[0;34m)\u001b[0m\u001b[0;34m)\u001b[0m\u001b[0;34m,\u001b[0m\u001b[0mm\u001b[0m\u001b[0;34m)\u001b[0m\u001b[0;34m\u001b[0m\u001b[0m\n\u001b[0m",
      "\u001b[0;32m<ipython-input-16-8d5236857789>\u001b[0m in \u001b[0;36msuma\u001b[0;34m(m, n)\u001b[0m\n\u001b[1;32m      2\u001b[0m     \u001b[0;32mif\u001b[0m \u001b[0mn\u001b[0m \u001b[0;34m==\u001b[0m \u001b[0;36m0\u001b[0m\u001b[0;34m:\u001b[0m\u001b[0;34m\u001b[0m\u001b[0m\n\u001b[1;32m      3\u001b[0m         \u001b[0;32mreturn\u001b[0m \u001b[0mm\u001b[0m\u001b[0;34m\u001b[0m\u001b[0m\n\u001b[0;32m----> 4\u001b[0;31m     \u001b[0;32mreturn\u001b[0m \u001b[0msucesor\u001b[0m\u001b[0;34m(\u001b[0m\u001b[0msuma\u001b[0m\u001b[0;34m(\u001b[0m\u001b[0mm\u001b[0m\u001b[0;34m,\u001b[0m\u001b[0mprec\u001b[0m\u001b[0;34m(\u001b[0m\u001b[0mn\u001b[0m\u001b[0;34m)\u001b[0m\u001b[0;34m)\u001b[0m\u001b[0;34m)\u001b[0m\u001b[0;34m\u001b[0m\u001b[0m\n\u001b[0m",
      "... last 1 frames repeated, from the frame below ...\n",
      "\u001b[0;32m<ipython-input-16-8d5236857789>\u001b[0m in \u001b[0;36msuma\u001b[0;34m(m, n)\u001b[0m\n\u001b[1;32m      2\u001b[0m     \u001b[0;32mif\u001b[0m \u001b[0mn\u001b[0m \u001b[0;34m==\u001b[0m \u001b[0;36m0\u001b[0m\u001b[0;34m:\u001b[0m\u001b[0;34m\u001b[0m\u001b[0m\n\u001b[1;32m      3\u001b[0m         \u001b[0;32mreturn\u001b[0m \u001b[0mm\u001b[0m\u001b[0;34m\u001b[0m\u001b[0m\n\u001b[0;32m----> 4\u001b[0;31m     \u001b[0;32mreturn\u001b[0m \u001b[0msucesor\u001b[0m\u001b[0;34m(\u001b[0m\u001b[0msuma\u001b[0m\u001b[0;34m(\u001b[0m\u001b[0mm\u001b[0m\u001b[0;34m,\u001b[0m\u001b[0mprec\u001b[0m\u001b[0;34m(\u001b[0m\u001b[0mn\u001b[0m\u001b[0;34m)\u001b[0m\u001b[0;34m)\u001b[0m\u001b[0;34m)\u001b[0m\u001b[0;34m\u001b[0m\u001b[0m\n\u001b[0m",
      "\u001b[0;31mRecursionError\u001b[0m: maximum recursion depth exceeded in comparison"
     ]
    }
   ],
   "source": [
    "potencia(3,9)"
   ]
  },
  {
   "cell_type": "markdown",
   "metadata": {},
   "source": [
    "## Resolución de ecuaciones recursivas"
   ]
  },
  {
   "cell_type": "markdown",
   "metadata": {},
   "source": [
    "Para sistemas de ecuaciones lineales, ulilizaremos linsolve().\n",
    "\n",
    "Para sistemas de ecuaciones no lineales, utilizaremos solve(), que también resuelve las lineales pero tarda más por tener que determinar su tipo.\n",
    "\n",
    "Para ecuaciones en recurrencia, utilizaremos rsolve(), del paquete `simpy`."
   ]
  },
  {
   "cell_type": "markdown",
   "metadata": {},
   "source": [
    "Empecemos con un ejemplo:\n",
    "- $a(0)=0$,\n",
    "- $a(1)=1$,\n",
    "- $a(n+2)=5a(n+1)-6a(n)$."
   ]
  },
  {
   "cell_type": "markdown",
   "metadata": {},
   "source": [
    "Empezamos declarando `a` como función"
   ]
  },
  {
   "cell_type": "code",
   "execution_count": 70,
   "metadata": {},
   "outputs": [],
   "source": [
    "a = Function('a')"
   ]
  },
  {
   "cell_type": "markdown",
   "metadata": {},
   "source": [
    "Tendríamos que resolver la ecuación $x^2-5x+6=0$, cuyas soluciones son 2 y 3. Comprobémoslo."
   ]
  },
  {
   "cell_type": "code",
   "execution_count": 71,
   "metadata": {
    "scrolled": true
   },
   "outputs": [
    {
     "data": {
      "text/plain": [
       "2**n*C0 + 3**n*C1"
      ]
     },
     "execution_count": 71,
     "metadata": {},
     "output_type": "execute_result"
    }
   ],
   "source": [
    "rsolve(a(n+2)-5*a(n+1)+6*a(n),a(n))       "
   ]
  },
  {
   "cell_type": "markdown",
   "metadata": {},
   "source": [
    "Sólo nos queda hallar la solución particular, aunque el mismo comando rsolve se puede encargar de ello si le damos\n",
    "también los términos iniciales como parámetros."
   ]
  },
  {
   "cell_type": "code",
   "execution_count": 72,
   "metadata": {},
   "outputs": [
    {
     "data": {
      "text/plain": [
       "-2**n + 3**n"
      ]
     },
     "execution_count": 72,
     "metadata": {},
     "output_type": "execute_result"
    }
   ],
   "source": [
    "rsolve(a(n+2)-5*a(n+1)+6*a(n),a(n), {a(0):0,a(1):1})  # Diccionario"
   ]
  },
  {
   "cell_type": "markdown",
   "metadata": {},
   "source": [
    "En este caso serían C0=-1, C1=1."
   ]
  },
  {
   "cell_type": "markdown",
   "metadata": {},
   "source": [
    "También podemos usar el comando solve para resolverla mediante el polinomio característico"
   ]
  },
  {
   "cell_type": "code",
   "execution_count": 73,
   "metadata": {},
   "outputs": [
    {
     "data": {
      "text/plain": [
       "[2, 3]"
      ]
     },
     "execution_count": 73,
     "metadata": {},
     "output_type": "execute_result"
    }
   ],
   "source": [
    "x=Symbol(\"x\")\n",
    "solve(x**2-5*x+6)"
   ]
  },
  {
   "cell_type": "markdown",
   "metadata": {},
   "source": [
    "Y por tanto la solución general será de la forma $a_n=u 2^n + v 3^n$, para ciertas constantes $u$ y $v$ que tenemos que encontrar a partir de las condiciones iniciales\n",
    "\n",
    "Imponemos por tanto que $a_0=0=u+v$ y que $a_1=1=2u+3v$"
   ]
  },
  {
   "cell_type": "code",
   "execution_count": 74,
   "metadata": {},
   "outputs": [
    {
     "data": {
      "text/plain": [
       "{u: -1, v: 1}"
      ]
     },
     "execution_count": 74,
     "metadata": {},
     "output_type": "execute_result"
    }
   ],
   "source": [
    "u,v = symbols(\"u,v\")\n",
    "solve([u+v,2*u+3*v-1])"
   ]
  },
  {
   "cell_type": "markdown",
   "metadata": {},
   "source": [
    "Por lo que $a_n=-2^n+3^n$, como habíamos visto arriba"
   ]
  },
  {
   "cell_type": "markdown",
   "metadata": {},
   "source": [
    "Veamos un ejemplo de una que no sea homogénea"
   ]
  },
  {
   "cell_type": "markdown",
   "metadata": {},
   "source": [
    "$a(n+2)=5a(n+1)-6a(n)+n$"
   ]
  },
  {
   "cell_type": "code",
   "execution_count": 75,
   "metadata": {},
   "outputs": [
    {
     "data": {
      "text/plain": [
       "2**n*C0 + 3**n*C1 + C0*n"
      ]
     },
     "execution_count": 75,
     "metadata": {},
     "output_type": "execute_result"
    }
   ],
   "source": [
    "rsolve(a(n+2)-5*a(n+1)+6*a(n)-n,a(n))"
   ]
  },
  {
   "cell_type": "markdown",
   "metadata": {},
   "source": [
    "Como vemos es bastante rápido, ahora hagamos otro más paso a paso.\n",
    "\n",
    "$a(0)=0$, $a(1)=1$, $a(n+2)=5a(n+1)-6a(n)+n\\times3^n$"
   ]
  },
  {
   "cell_type": "markdown",
   "metadata": {},
   "source": [
    "Cuando la ecuación está igualada a un número elevado a n por un polinomio en n, se añade multiplicando al polinomio característico $(x-b)^{r+1}$ donde b es el número y r el grado del polinomio en n.\n",
    "El polinomio característico sería $(x^2-5x+6)(x-3)^2$"
   ]
  },
  {
   "cell_type": "code",
   "execution_count": 76,
   "metadata": {},
   "outputs": [
    {
     "data": {
      "text/plain": [
       "(x - 3)*(x - 2)"
      ]
     },
     "execution_count": 76,
     "metadata": {},
     "output_type": "execute_result"
    }
   ],
   "source": [
    "factor(x**2-5*x+6)"
   ]
  },
  {
   "cell_type": "markdown",
   "metadata": {},
   "source": [
    "Las soluciones serían x=3 (sol. triple) y x=2. Por lo que la solución general tendría esta forma: $(An^2+Bn+C)\\times 3^n + D\\times 2^n$\n",
    "\n",
    "Esta ecuación tiene las soluciones deseadas, pero también tiene otras que hemos añadido al obtener el polinomio característico, por lo que para simplificarla tomaremos parámetros generales en las condiciones iniciales.\n",
    "\n",
    "- $a(0) = p = C + D$\n",
    "- $a(1) = q = (A+B+C)\\times 3 + D\\times 2$\n",
    "- $a(2) = 5\\times a(1) - 6\\times a(0) + 2\\times 3^2 = 5q-6p+18 = (4A+2B+C)\\times 9 + D\\times 4$ \n",
    "- $a(3) = 5\\times a(2) - 6\\times a(1) + 3\\times 3^3 = 5\\times (5q-6p+18)-6q+81=(9A+3B+C)\\times 27 + D\\times 8$\n",
    "\n",
    "Resolvemos el sistema y comprobamos que dos parámetros ahora son fijos."
   ]
  },
  {
   "cell_type": "code",
   "execution_count": 77,
   "metadata": {},
   "outputs": [],
   "source": [
    "A, B, C, D, p, q = symbols(\"A, B, C, D, p, q\")"
   ]
  },
  {
   "cell_type": "code",
   "execution_count": 78,
   "metadata": {},
   "outputs": [
    {
     "data": {
      "text/plain": [
       "{(3/2, -9/2, -2*p + q + 9, 3*p - q - 9)}"
      ]
     },
     "execution_count": 78,
     "metadata": {},
     "output_type": "execute_result"
    }
   ],
   "source": [
    "linsolve([C+D-p,(A+B+C)*3+D*2-q,(4*A+2*B+C)*9+D*4-(5*q-6*p+18),(9*A+3*B+C)*27+D*8-(5*(5*q-6*p+18)-6*q+81)],[A,B,C,D])"
   ]
  },
  {
   "cell_type": "markdown",
   "metadata": {},
   "source": [
    "Ahora la ecuación general (la que tiene sólo las soluciones que nos interesan) tiene esta forma: "
   ]
  },
  {
   "cell_type": "code",
   "execution_count": 79,
   "metadata": {},
   "outputs": [],
   "source": [
    "g = lambda n:simplify(((3/2)*n**2+(-9/2)*n+(-2*p+q+9))*3**n+(3*p-q-9)*2**n)"
   ]
  },
  {
   "cell_type": "code",
   "execution_count": 80,
   "metadata": {},
   "outputs": [
    {
     "data": {
      "text/plain": [
       "{p: 0, q: 1}"
      ]
     },
     "execution_count": 80,
     "metadata": {},
     "output_type": "execute_result"
    }
   ],
   "source": [
    "solve([g(0),g(1)-1],[p,q])"
   ]
  },
  {
   "cell_type": "markdown",
   "metadata": {},
   "source": [
    "Introducimos las condiciones especiales particulares y ya podemos hallar la solución particular."
   ]
  },
  {
   "cell_type": "code",
   "execution_count": 81,
   "metadata": {},
   "outputs": [],
   "source": [
    "p = lambda n:simplify(((3/2)*n**2+(-9/2)*n+(-2*0+1+9))*3**n+(3*0-1-9)*2**n)"
   ]
  },
  {
   "cell_type": "code",
   "execution_count": 82,
   "metadata": {},
   "outputs": [
    {
     "data": {
      "text/plain": [
       "-10*2**n + 3**n*(1.5*n**2 - 4.5*n + 10)"
      ]
     },
     "execution_count": 82,
     "metadata": {},
     "output_type": "execute_result"
    }
   ],
   "source": [
    "p(n)       # Aquí la tenemos"
   ]
  },
  {
   "cell_type": "markdown",
   "metadata": {},
   "source": [
    "Hagamos otro ejemplo: $a(0)+a(1)=2, a(1)+a(2)=4, a(n)+a(n-1)=2n$\n",
    "\n",
    "Esta vez las condiciones iniciales vienen dadas de una forma peculiar. Aunque de eso nos ocuparemos luego, para homogeneizar y eliminar el $2n$ restaremos dos términos consecutivos de la ecuación."
   ]
  },
  {
   "cell_type": "code",
   "execution_count": 83,
   "metadata": {},
   "outputs": [],
   "source": [
    "n = Symbol(\"n\", integer=true)\n",
    "a = Function('a')"
   ]
  },
  {
   "cell_type": "code",
   "execution_count": 84,
   "metadata": {},
   "outputs": [
    {
     "data": {
      "text/plain": [
       "n*(n/2 - 1/2)"
      ]
     },
     "execution_count": 84,
     "metadata": {},
     "output_type": "execute_result"
    }
   ],
   "source": [
    "rsolve(a(n)-a(n-1)-n+1,a(n),{a(1):0})"
   ]
  },
  {
   "cell_type": "code",
   "execution_count": 85,
   "metadata": {},
   "outputs": [
    {
     "name": "stdout",
     "output_type": "stream",
     "text": [
      "  ⎛n   1⎞\n",
      "n⋅⎜─ - ─⎟\n",
      "  ⎝2   2⎠\n"
     ]
    }
   ],
   "source": [
    "pprint(_)"
   ]
  },
  {
   "cell_type": "code",
   "execution_count": 86,
   "metadata": {},
   "outputs": [
    {
     "data": {
      "text/plain": [
       "a(n) - a(n - 2) - 2"
      ]
     },
     "execution_count": 86,
     "metadata": {},
     "output_type": "execute_result"
    }
   ],
   "source": [
    "a(n)+a(n-1)-2*n - (a(n-1)+a(n-2)-2*(n-1))"
   ]
  },
  {
   "cell_type": "markdown",
   "metadata": {},
   "source": [
    "Ahora tenemos un molesto 2, que podemos eliminar repitiendo el proceso. "
   ]
  },
  {
   "cell_type": "code",
   "execution_count": 87,
   "metadata": {},
   "outputs": [
    {
     "data": {
      "text/plain": [
       "a(n) + a(n - 3) - a(n - 2) - a(n - 1)"
      ]
     },
     "execution_count": 87,
     "metadata": {},
     "output_type": "execute_result"
    }
   ],
   "source": [
    "a(n)-a(n-2)-2 -(a(n-1)-a(n-3)-2) "
   ]
  },
  {
   "cell_type": "code",
   "execution_count": 88,
   "metadata": {},
   "outputs": [
    {
     "data": {
      "text/plain": [
       "[-1, 1]"
      ]
     },
     "execution_count": 88,
     "metadata": {},
     "output_type": "execute_result"
    }
   ],
   "source": [
    "solve(x**3-x**2-x+1,x)   # Esto no nos vale, no tiene en cuenta las soluciones múltiples"
   ]
  },
  {
   "cell_type": "code",
   "execution_count": 89,
   "metadata": {},
   "outputs": [
    {
     "data": {
      "text/plain": [
       "(x - 1)**2*(x + 1)"
      ]
     },
     "execution_count": 89,
     "metadata": {},
     "output_type": "execute_result"
    }
   ],
   "source": [
    "factor(x**3-x**2-x+1,x) # Ahora sí"
   ]
  },
  {
   "cell_type": "code",
   "execution_count": 90,
   "metadata": {},
   "outputs": [],
   "source": [
    "g = lambda n: A*(-1)**n +(B*n+C)  # Solución general"
   ]
  },
  {
   "cell_type": "markdown",
   "metadata": {},
   "source": [
    "Ahora debemos buscar una solución particular que cumpla   $a(1)+a(0)=2,   a(2)+a(1)=4$\n",
    "\n",
    "Para esto, resolveremos el siguiente sistema:\n",
    "\n",
    "- $a(0)+a(1) = 2$\n",
    "\n",
    "- $a(1)+a(2) = 4$"
   ]
  },
  {
   "cell_type": "code",
   "execution_count": 91,
   "metadata": {},
   "outputs": [
    {
     "data": {
      "text/plain": [
       "{B: 1, C: 1/2}"
      ]
     },
     "execution_count": 91,
     "metadata": {},
     "output_type": "execute_result"
    }
   ],
   "source": [
    "solve([g(0)+g(1)-2,g(2)+g(1)-4],[A,B,C])"
   ]
  },
  {
   "cell_type": "code",
   "execution_count": 92,
   "metadata": {},
   "outputs": [],
   "source": [
    "p = lambda n: A(-1)**n + n + 1/2"
   ]
  },
  {
   "cell_type": "code",
   "execution_count": 93,
   "metadata": {},
   "outputs": [
    {
     "data": {
      "text/plain": [
       "n + A(-1)**n + 0.5"
      ]
     },
     "execution_count": 93,
     "metadata": {},
     "output_type": "execute_result"
    }
   ],
   "source": [
    "p(n)"
   ]
  },
  {
   "cell_type": "markdown",
   "metadata": {},
   "source": [
    "Esta solución particular es válida para cualquier valor de A.\n",
    "\n",
    "Ahora pasemos a ver la utilidad de esto, con ejemplo más prácticos.\n",
    "\n",
    "El juego de las Torres de Hanói se trata de pasar una serie de discos de una varilla a otra, disponiendo de una tercera para auxliarse, reglas:\n",
    "1. Sólo se puede mover un disco cada vez.\n",
    "2. Un disco de mayor tamaño no puede descansar sobre uno más pequeño que él mismo.\n",
    "3. Sólo puedes desplazar el disco que se encuentre arriba en cada varilla.\n",
    "\n",
    "Calculemos el mínimo número de movimientos posibles para realizar el juego con n discos, $a(n)$.\n",
    "\n",
    "Cuenta una leyenda que Dios encargó a los monjes de un monasterio de Hanói pasar 64 discos entre tres varillas de diamante, y que cuando acabaran, el mundo terminaría.\n",
    "\n",
    "Para desplazar los $n$ discos, primero tendremos que desplazar todos menos el mayor a una de las varillas, $a(n)$; a continuación, desplazar el mayor de los discos a la otra varilla que queda libre ($1$); y por último, volver a colocar los $n-1$ primeros encima del mayor. Luego nos queda la siguiente ecuación de recurrencia:\n",
    "\n",
    "$a(n)=2a(n-1)+1$\n"
   ]
  },
  {
   "cell_type": "code",
   "execution_count": 94,
   "metadata": {},
   "outputs": [
    {
     "data": {
      "text/plain": [
       "2**n - 1"
      ]
     },
     "execution_count": 94,
     "metadata": {},
     "output_type": "execute_result"
    }
   ],
   "source": [
    "rsolve(a(n)-2*a(n-1)-1,a(n),{a(0):0})   # Aunque no sea homogénea, rsolve puede hacerla directamente"
   ]
  },
  {
   "cell_type": "code",
   "execution_count": 95,
   "metadata": {},
   "outputs": [],
   "source": [
    "h = lambda n: 2**n - 1"
   ]
  },
  {
   "cell_type": "code",
   "execution_count": 96,
   "metadata": {},
   "outputs": [
    {
     "data": {
      "text/plain": [
       "18446744073709551615"
      ]
     },
     "execution_count": 96,
     "metadata": {},
     "output_type": "execute_result"
    }
   ],
   "source": [
    "h(64)     "
   ]
  },
  {
   "cell_type": "markdown",
   "metadata": {},
   "source": [
    "Si los monjes movieran un disco por segundo, tardarían en completar el juego 117 el tiempo de exitencia de la Tierra y 41.78 veces el tiempo de vida del universo. Así que aún queda mundo para rato.\n",
    "\n",
    "Ahora contemos las regiones en las que queda subdividido un plano al trazar n rectas no paralelas y sin que 3 rectas se corten en el mismo punto:\n",
    "\n",
    "- 0 rectas -> 1 región\n",
    "- 1 recta -> 2 regiones\n",
    "- 2 rectas -> 4 regiones\n",
    "- 3 rectas -> 7 regiones\n",
    "\n",
    "Nos queda la ecuación de recurrencia:\n",
    "$a(n)=a(n-1)+n$, con $a(0)=1$ \n",
    "\n"
   ]
  },
  {
   "cell_type": "code",
   "execution_count": 97,
   "metadata": {},
   "outputs": [
    {
     "data": {
      "text/plain": [
       "n*(n + 1)/2 + 1"
      ]
     },
     "execution_count": 97,
     "metadata": {},
     "output_type": "execute_result"
    }
   ],
   "source": [
    "rsolve(a(n)-a(n-1)-n,a(n),{a(0):1})"
   ]
  },
  {
   "cell_type": "code",
   "execution_count": 98,
   "metadata": {},
   "outputs": [
    {
     "name": "stdout",
     "output_type": "stream",
     "text": [
      "n⋅(n + 1)    \n",
      "───────── + 1\n",
      "    2        \n"
     ]
    }
   ],
   "source": [
    "pprint(_)"
   ]
  },
  {
   "cell_type": "code",
   "execution_count": 99,
   "metadata": {},
   "outputs": [],
   "source": [
    "r = lambda n: n*(n+1)/2+1"
   ]
  },
  {
   "cell_type": "code",
   "execution_count": 100,
   "metadata": {},
   "outputs": [
    {
     "data": {
      "text/plain": [
       "5051.0"
      ]
     },
     "execution_count": 100,
     "metadata": {},
     "output_type": "execute_result"
    }
   ],
   "source": [
    "r(100)"
   ]
  },
  {
   "cell_type": "markdown",
   "metadata": {},
   "source": [
    "Sería difícil contar las regiones tras trazar 100 líneas, pero sabemos que saldrían 5051.\n",
    "\n",
    "Ahora un ejemplo bastante conocido, que permitirá hallar una fórmula iterativa para calcular un término de la sucesión de fibonacci, este lo haremos paso a paso. $a(n)=a(n-1)+a(n-2), a(0)=0, a(1)=1$"
   ]
  },
  {
   "cell_type": "code",
   "execution_count": 101,
   "metadata": {},
   "outputs": [
    {
     "data": {
      "text/plain": [
       "[1/2 + sqrt(5)/2, -sqrt(5)/2 + 1/2]"
      ]
     },
     "execution_count": 101,
     "metadata": {},
     "output_type": "execute_result"
    }
   ],
   "source": [
    "solve(x**2-x-1)    # Las soluciones del polinomio característico son el número phi y el inverso de su opuesto."
   ]
  },
  {
   "cell_type": "code",
   "execution_count": 102,
   "metadata": {},
   "outputs": [],
   "source": [
    "g = lambda n: A*(1/2+sqrt(5)/2)**n + B*(1/2-sqrt(5)/2)**n"
   ]
  },
  {
   "cell_type": "code",
   "execution_count": 103,
   "metadata": {},
   "outputs": [
    {
     "data": {
      "text/plain": [
       "{A: 0.447213595499958, B: -0.447213595499958}"
      ]
     },
     "execution_count": 103,
     "metadata": {},
     "output_type": "execute_result"
    }
   ],
   "source": [
    "solve([g(0),g(1)-1],[A,B])   # Se puede hacer a mano por reducción fácilmente y se obtiene A = 1/sqrt(5), B = -1/sqrt(5)"
   ]
  },
  {
   "cell_type": "code",
   "execution_count": 104,
   "metadata": {},
   "outputs": [],
   "source": [
    "fibo = lambda n: (1/sqrt(5))*(1/2+sqrt(5)/2)**n - (1/sqrt(5))*(1/2-sqrt(5)/2)**n "
   ]
  },
  {
   "cell_type": "code",
   "execution_count": 105,
   "metadata": {},
   "outputs": [
    {
     "data": {
      "text/plain": [
       "-sqrt(5)*(-sqrt(5)/2 + 0.5)**10/5 + sqrt(5)*(0.5 + sqrt(5)/2)**10/5"
      ]
     },
     "execution_count": 105,
     "metadata": {},
     "output_type": "execute_result"
    }
   ],
   "source": [
    "fibo(10)"
   ]
  },
  {
   "cell_type": "markdown",
   "metadata": {},
   "source": [
    "Es curioso como una expresión tan compleja siempre acaba valiendo un número natural. Pero eso no es nada, en el siguiente y último ejemplo, incluso se utilizan números imaginarios.\n",
    "\n",
    "$a(1)=1, a(2)=2, a(n)=-a(n-2)$"
   ]
  },
  {
   "cell_type": "code",
   "execution_count": 106,
   "metadata": {},
   "outputs": [
    {
     "data": {
      "text/plain": [
       "[-I, I]"
      ]
     },
     "execution_count": 106,
     "metadata": {},
     "output_type": "execute_result"
    }
   ],
   "source": [
    "solve(x**2+1,x)     # Empezamos bien..."
   ]
  },
  {
   "cell_type": "code",
   "execution_count": 107,
   "metadata": {},
   "outputs": [],
   "source": [
    "g = lambda n: A*I**n + B*(-I)**n"
   ]
  },
  {
   "cell_type": "code",
   "execution_count": 108,
   "metadata": {},
   "outputs": [
    {
     "data": {
      "text/plain": [
       "{A: -1 - I/2, B: -1 + I/2}"
      ]
     },
     "execution_count": 108,
     "metadata": {},
     "output_type": "execute_result"
    }
   ],
   "source": [
    "solve([g(1)-1,g(2)-2],[A,B])"
   ]
  },
  {
   "cell_type": "code",
   "execution_count": 109,
   "metadata": {},
   "outputs": [],
   "source": [
    "p = lambda n: (-I/2-1)*I**n + (I/2-1)*(-I)**n"
   ]
  },
  {
   "cell_type": "code",
   "execution_count": 110,
   "metadata": {},
   "outputs": [
    {
     "data": {
      "text/plain": [
       "(1, -2, -1)"
      ]
     },
     "execution_count": 110,
     "metadata": {},
     "output_type": "execute_result"
    }
   ],
   "source": [
    "simplify(p(1)), simplify(p(8)), simplify(p(10789423))   # Le ocurre lo mismo que al anterior"
   ]
  },
  {
   "cell_type": "markdown",
   "metadata": {},
   "source": [
    "## Combinatoria"
   ]
  },
  {
   "cell_type": "markdown",
   "metadata": {},
   "source": [
    "#### Principio de inclusión-exclusión"
   ]
  },
  {
   "cell_type": "markdown",
   "metadata": {},
   "source": [
    "Para contar los elementos de la unión de dos o más conjuntos cuando es más fácil calcular la intersección que la unión. Se usa el principio de inclusión-exclusión. Consiste en sumar los cardinales de los conjuntos y a continuación restar las intersecciones de cada par de conjuntos, posteriormente la de cada trío de conjuntos... y así hasta sumar (si es un número impar de conjuntos) o restar(si es un número par de conjuntos) la intersección de todos.\n",
    "Por ejemplo:"
   ]
  },
  {
   "cell_type": "code",
   "execution_count": 111,
   "metadata": {},
   "outputs": [],
   "source": [
    "X={1,2,3,4,5,6}\n",
    "Y={4,5,6,7}\n",
    "Z={6,7,8,9,10,11}"
   ]
  },
  {
   "cell_type": "code",
   "execution_count": 112,
   "metadata": {},
   "outputs": [
    {
     "data": {
      "text/plain": [
       "11"
      ]
     },
     "execution_count": 112,
     "metadata": {},
     "output_type": "execute_result"
    }
   ],
   "source": [
    "len(X|Y|Z)     # len() dice el cardinal, y | significa unión."
   ]
  },
  {
   "cell_type": "markdown",
   "metadata": {},
   "source": [
    "Python cuenta con una función que lo hace, pero, ¿y si no la tuviéramos?"
   ]
  },
  {
   "cell_type": "code",
   "execution_count": 113,
   "metadata": {},
   "outputs": [
    {
     "data": {
      "text/plain": [
       "11"
      ]
     },
     "execution_count": 113,
     "metadata": {},
     "output_type": "execute_result"
    }
   ],
   "source": [
    "len(X)+len(Y)+len(Z)-len(X&Y)-len(X&Z)-len(Y&Z)+len(X&Y&Z)   # & hace la intersección de conjuntos"
   ]
  },
  {
   "cell_type": "markdown",
   "metadata": {},
   "source": [
    "Ahora un ejemplo práctico, veamos cuántos números binarios de 6 cifras no continen la secuencia 101. Para ello es más fácil empezar calulando los que sí la contienen. La primera cifra ha de ser un 1, luego tendremos que considerar 4 conjuntos, que son las 4 formas diferentes de que aparezca la secuencia:\n",
    "\n",
    "$\n",
    "1. A:   1 0 1 _ _ _     (8)\n",
    "2. B:   1 1 0 1 _ _     (4)        \n",
    "3. C:   1 _ 1 0 1 _     (4)\n",
    "4. D:   1 _ _ 1 0 1     (4)\n",
    "$\n",
    "\n",
    "A la derecha está el cardinal de cada conjunto, que corresponde al número de posibilidades en cada posición (2, 1 ó 0) elevado al número de posiciones. Ahora consideremos las intersecciones de de cada par de conjuntos. Por ejemplo, el cardinal de A&C es 2, ya que sólo queda un hueco libre ($2^1$), el de A&D es 1 ($2^0$) y el de A$B es 0 porque no existen números binarios que tengan el 0 y el 1 a la vez en la misma posición.\n",
    "\n",
    "$\n",
    "- A&B:             (0)\n",
    "- A&C: 1 0 1 0 1 _ (2)\n",
    "- A&D: 1 0 1 1 0 1 (1)\n",
    "- B&C:             (0)\n",
    "- B&D: 1 1 0 1 0 1 (1)\n",
    "- C&D:             (0)\n",
    "- A&B&C, A&B&D, A&C&D, B&C&D    (0) \n",
    "- A&B&CD           (0)\n",
    "$\n",
    "\n",
    "El cálculo que necesitamos hacer será |A|+|B|+|C|+|D|-|A&B|-|A&C|-|A&D|-|B&C|-|B&D|-|C&D|+|A&B&C|+|A&B&D|+|A&C&D|+|B&C&D|-|A&B&C&D|\n"
   ]
  },
  {
   "cell_type": "code",
   "execution_count": 114,
   "metadata": {},
   "outputs": [
    {
     "data": {
      "text/plain": [
       "16"
      ]
     },
     "execution_count": 114,
     "metadata": {},
     "output_type": "execute_result"
    }
   ],
   "source": [
    "8+4+4+4-0-2-1-0-1-0+0+0+0+0-0"
   ]
  },
  {
   "cell_type": "markdown",
   "metadata": {},
   "source": [
    "Como hay 32 números binarios de 6 cifras (5 huecos libres, $2^5$) y 16 contienen la secuencia 101, 32-16 = 16 números binarios de 6 cifras no la contendrán."
   ]
  },
  {
   "cell_type": "markdown",
   "metadata": {},
   "source": [
    "#### Listas"
   ]
  },
  {
   "cell_type": "markdown",
   "metadata": {},
   "source": [
    "En un conjunto de $n$ elementos, podemos formar $n^k$ listas de k elementos diferentes. Si en cada lista no se pueden repetir elementos, para el número es $n$ elevado a $k$ descendente, es decir, $n\\times(n-1)\\times...\\times(n-k)\\times(n-k+1)$. Definamos una función que calcula las variaciones simples (sin repetición) de $k$ entre $n$ elementos."
   ]
  },
  {
   "cell_type": "code",
   "execution_count": 115,
   "metadata": {},
   "outputs": [],
   "source": [
    "def V(n,k):\n",
    "    v = n;\n",
    "    for i in range(1,k):   # Hace iteraciones con i=1, i=2,...,i=k-1\n",
    "        v = v*(n-i)        # n(n-1)(n-2)...(n-(k-1))\n",
    "    return v\n",
    "        "
   ]
  },
  {
   "cell_type": "code",
   "execution_count": 116,
   "metadata": {},
   "outputs": [
    {
     "data": {
      "text/plain": [
       "210"
      ]
     },
     "execution_count": 116,
     "metadata": {},
     "output_type": "execute_result"
    }
   ],
   "source": [
    "V(7,3)    # 7*6*5"
   ]
  },
  {
   "cell_type": "code",
   "execution_count": 117,
   "metadata": {},
   "outputs": [
    {
     "data": {
      "text/plain": [
       "0"
      ]
     },
     "execution_count": 117,
     "metadata": {},
     "output_type": "execute_result"
    }
   ],
   "source": [
    "V(7,9)    # Hay 0 formas de escoger 9 elementos diferentes en un conjunto de 7 (el bucle llega a 0 y empieza a multiplicar 0)"
   ]
  },
  {
   "cell_type": "code",
   "execution_count": 118,
   "metadata": {},
   "outputs": [],
   "source": [
    "def perm(n): return V(n,n)    # Serían las posibles permutaciones, n!"
   ]
  },
  {
   "cell_type": "code",
   "execution_count": 119,
   "metadata": {},
   "outputs": [
    {
     "data": {
      "text/plain": [
       "720"
      ]
     },
     "execution_count": 119,
     "metadata": {},
     "output_type": "execute_result"
    }
   ],
   "source": [
    "perm(6)"
   ]
  },
  {
   "cell_type": "code",
   "execution_count": 120,
   "metadata": {},
   "outputs": [],
   "source": [
    "def perm_circ(n): return perm(n-1)     # Permutaciones circulares, (n-1)!"
   ]
  },
  {
   "cell_type": "code",
   "execution_count": 121,
   "metadata": {},
   "outputs": [
    {
     "data": {
      "text/plain": [
       "120"
      ]
     },
     "execution_count": 121,
     "metadata": {},
     "output_type": "execute_result"
    }
   ],
   "source": [
    "perm_circ(6)"
   ]
  },
  {
   "cell_type": "markdown",
   "metadata": {},
   "source": [
    "#### Combinaciones"
   ]
  },
  {
   "cell_type": "markdown",
   "metadata": {},
   "source": [
    "Las combinaciones son listas en las que no importa el orden, por lo que tendremos que dividir el número de listas entre las formas de ordenarlas, las combinaciones simples equivalen a los números combinatorios."
   ]
  },
  {
   "cell_type": "code",
   "execution_count": 122,
   "metadata": {},
   "outputs": [],
   "source": [
    "def combs(n,k): \n",
    "    if k == 0:\n",
    "        return 1\n",
    "    else:\n",
    "        return V(n,k)/perm(k)  # Es lo mismo que n!/(k!(n-k)!) "
   ]
  },
  {
   "cell_type": "code",
   "execution_count": 123,
   "metadata": {},
   "outputs": [
    {
     "data": {
      "text/plain": [
       "6.0"
      ]
     },
     "execution_count": 123,
     "metadata": {},
     "output_type": "execute_result"
    }
   ],
   "source": [
    "combs(4,2)     # 4 sobre 2"
   ]
  },
  {
   "cell_type": "code",
   "execution_count": 124,
   "metadata": {},
   "outputs": [],
   "source": [
    "def combs_rep(n,k): return factorial(n+k-1)/(factorial(k)*factorial(n-1))    # Ahora las combinaciones con repetición"
   ]
  },
  {
   "cell_type": "code",
   "execution_count": 125,
   "metadata": {},
   "outputs": [
    {
     "data": {
      "text/plain": [
       "10"
      ]
     },
     "execution_count": 125,
     "metadata": {},
     "output_type": "execute_result"
    }
   ],
   "source": [
    "combs_rep(3,3)"
   ]
  },
  {
   "cell_type": "code",
   "execution_count": 126,
   "metadata": {},
   "outputs": [],
   "source": [
    "a,b = symbols(\"a,b\")"
   ]
  },
  {
   "cell_type": "code",
   "execution_count": 127,
   "metadata": {},
   "outputs": [
    {
     "data": {
      "text/plain": [
       "a**5 + 5*a**4*b + 10*a**3*b**2 + 10*a**2*b**3 + 5*a*b**4 + b**5"
      ]
     },
     "execution_count": 127,
     "metadata": {},
     "output_type": "execute_result"
    }
   ],
   "source": [
    "expand((a+b)**5)"
   ]
  },
  {
   "cell_type": "markdown",
   "metadata": {},
   "source": [
    "Podemos definir una función que dada una lista de exponentes calcule el coeficiente multinomial que les corresponde."
   ]
  },
  {
   "cell_type": "code",
   "execution_count": 128,
   "metadata": {},
   "outputs": [],
   "source": [
    "def coef_multinomial(X):\n",
    "    dividendo = 0\n",
    "    for k in X:\n",
    "        dividendo += k\n",
    "    dividendo = factorial(dividendo)\n",
    "    divisor = 1\n",
    "    for k in X:\n",
    "        divisor *= factorial(k)\n",
    "    return dividendo/divisor"
   ]
  },
  {
   "cell_type": "code",
   "execution_count": 129,
   "metadata": {},
   "outputs": [
    {
     "data": {
      "text/plain": [
       "30"
      ]
     },
     "execution_count": 129,
     "metadata": {},
     "output_type": "execute_result"
    }
   ],
   "source": [
    "coef_multinomial([2,2,1])"
   ]
  },
  {
   "cell_type": "code",
   "execution_count": 130,
   "metadata": {},
   "outputs": [],
   "source": [
    "x,y,z,c,d = symbols(\"x,y,z,c,d\")"
   ]
  },
  {
   "cell_type": "code",
   "execution_count": 131,
   "metadata": {},
   "outputs": [
    {
     "name": "stdout",
     "output_type": "stream",
     "text": [
      "(a + b + c + d)!\n",
      "────────────────\n",
      "  a!⋅b!⋅c!⋅d!   \n"
     ]
    }
   ],
   "source": [
    "pprint(coef_multinomial([a,b,c,d]))"
   ]
  },
  {
   "cell_type": "code",
   "execution_count": 132,
   "metadata": {},
   "outputs": [
    {
     "data": {
      "text/plain": [
       "x**5 + 5*x**4*y + 5*x**4*z + 10*x**3*y**2 + 20*x**3*y*z + 10*x**3*z**2 + 10*x**2*y**3 + 30*x**2*y**2*z + 30*x**2*y*z**2 + 10*x**2*z**3 + 5*x*y**4 + 20*x*y**3*z + 30*x*y**2*z**2 + 20*x*y*z**3 + 5*x*z**4 + y**5 + 5*y**4*z + 10*y**3*z**2 + 10*y**2*z**3 + 5*y*z**4 + z**5"
      ]
     },
     "execution_count": 132,
     "metadata": {},
     "output_type": "execute_result"
    }
   ],
   "source": [
    "expand((x+y+z)**5)"
   ]
  },
  {
   "cell_type": "code",
   "execution_count": 133,
   "metadata": {},
   "outputs": [
    {
     "name": "stdout",
     "output_type": "stream",
     "text": [
      " 5      4        4         3  2       3           3  2       2  3       2  2  \n",
      "x  + 5⋅x ⋅y + 5⋅x ⋅z + 10⋅x ⋅y  + 20⋅x ⋅y⋅z + 10⋅x ⋅z  + 10⋅x ⋅y  + 30⋅x ⋅y ⋅z\n",
      "\n",
      "       2    2       2  3        4         3           2  2           3        \n",
      " + 30⋅x ⋅y⋅z  + 10⋅x ⋅z  + 5⋅x⋅y  + 20⋅x⋅y ⋅z + 30⋅x⋅y ⋅z  + 20⋅x⋅y⋅z  + 5⋅x⋅z\n",
      "\n",
      "4    5      4         3  2       2  3        4    5\n",
      "  + y  + 5⋅y ⋅z + 10⋅y ⋅z  + 10⋅y ⋅z  + 5⋅y⋅z  + z \n"
     ]
    }
   ],
   "source": [
    "pprint(_)  # Efectivamente podemos comprobar que el coeficiente del término x^2 y^2 z es 30"
   ]
  },
  {
   "cell_type": "markdown",
   "metadata": {},
   "source": [
    "Esto significa que existen 30 formas de repartir 5 objetos diferentes en 3 cajas con 2 objetos en la primera, dos en la segunda y uno en la última. Tendría ${5\\choose 2}$ opciones para la primera caja, y a partir de ahí ${3\\choose 2}$ para la segunda, obviamente en la tercera va el que quede."
   ]
  },
  {
   "cell_type": "code",
   "execution_count": 134,
   "metadata": {},
   "outputs": [
    {
     "data": {
      "text/plain": [
       "30.0"
      ]
     },
     "execution_count": 134,
     "metadata": {},
     "output_type": "execute_result"
    }
   ],
   "source": [
    "combs(5,2) * combs(3,2)"
   ]
  },
  {
   "cell_type": "markdown",
   "metadata": {},
   "source": [
    "#### Particiones"
   ]
  },
  {
   "cell_type": "markdown",
   "metadata": {},
   "source": [
    "Los números de Stirling de segunda clase representan las formas de dividir un conjunto en varios subconjuntos disjuntos, no vacíos tales que su unión es el total. No es difícil definir una función recursiva para calcularlo."
   ]
  },
  {
   "cell_type": "code",
   "execution_count": 135,
   "metadata": {},
   "outputs": [],
   "source": [
    "def Stirling2(n,k):\n",
    "    if k > n:\n",
    "        raise TypeError(\"El segundo argumento nunca puede se mayor que el primero\")\n",
    "    if n == k or k == 1:\n",
    "        return 1\n",
    "    else:\n",
    "        return Stirling2(n-1,k-1) + k*Stirling2(n-1,k)"
   ]
  },
  {
   "cell_type": "code",
   "execution_count": 136,
   "metadata": {},
   "outputs": [
    {
     "data": {
      "text/plain": [
       "25"
      ]
     },
     "execution_count": 136,
     "metadata": {},
     "output_type": "execute_result"
    }
   ],
   "source": [
    "Stirling2(5,3)"
   ]
  },
  {
   "cell_type": "markdown",
   "metadata": {},
   "source": [
    "También podemos definir una función (no muy eficiente) que calcule el n-ésimo número de Bell, que representa el número de particiones de un conjunto con n elementos."
   ]
  },
  {
   "cell_type": "code",
   "execution_count": 137,
   "metadata": {},
   "outputs": [],
   "source": [
    "def Bell(n):\n",
    "    bell = 0\n",
    "    for k in range(1,n+1):\n",
    "        bell += Stirling2(n,k)\n",
    "    return bell\n",
    "        "
   ]
  },
  {
   "cell_type": "markdown",
   "metadata": {},
   "source": [
    "Ahora definamos una función que calcule las particiones de un número natural n con k o menos sumandos."
   ]
  },
  {
   "cell_type": "code",
   "execution_count": 138,
   "metadata": {},
   "outputs": [],
   "source": [
    "import functools           # Utilizaremos la memoization, porque esta función no va a ser nada eficiente."
   ]
  },
  {
   "cell_type": "code",
   "execution_count": 139,
   "metadata": {},
   "outputs": [],
   "source": [
    "@functools.lru_cache(maxsize=None)\n",
    "def part_nat(n,k):\n",
    "    if k == 1:\n",
    "        return 1\n",
    "    if k == n:\n",
    "        return part_nat(n,n-1) + 1\n",
    "    if k > n:\n",
    "        return part_nat(n,n)\n",
    "    if k < n:\n",
    "        return part_nat(n,k-1) + part_nat(k,n-k)"
   ]
  },
  {
   "cell_type": "code",
   "execution_count": 140,
   "metadata": {},
   "outputs": [
    {
     "data": {
      "text/plain": [
       "15"
      ]
     },
     "execution_count": 140,
     "metadata": {},
     "output_type": "execute_result"
    }
   ],
   "source": [
    "part_nat(7,7)"
   ]
  },
  {
   "cell_type": "markdown",
   "metadata": {},
   "source": [
    "#### Aplicaciones"
   ]
  },
  {
   "cell_type": "code",
   "execution_count": 141,
   "metadata": {},
   "outputs": [],
   "source": [
    "n, k = symbols(\"n, k\")"
   ]
  },
  {
   "cell_type": "markdown",
   "metadata": {},
   "source": [
    "Consideremos las aplicaciones de un conjunto A, de cardinal $n$ en un conjunto B, de cardinal $k$.\n",
    "\n",
    "El número de aplicaciones totales es de $k^n$, ya que cada aplicación es una lista de $n$ elementos elegidos entre $k$.\n",
    "\n",
    "El número de aplicaciones inyectivas es el mismo que el de listas sin repetición, requiere que $n$ sea menor o igual que $k$.\n",
    "\n",
    "El número de aplicaciones biyectivas es el mismo que el de las permutaciones de cualquiera de los conjuntos ($n!$), requiere que $k$ sea igual a $n$.\n",
    "\n",
    "Para las aplicaciones sobreyectivas, la fórmula es más complicada y hace uso del principio de inclusión-exclusión: \n",
    "\n",
    "$T(n,k)=\\sum_{i=0}^{k-1}{{k \\choose i}\\times (-1)^i\\times (k-i)^n}$\n",
    "\n",
    "Posteriormente definiremos una función para calcularla."
   ]
  },
  {
   "cell_type": "code",
   "execution_count": 142,
   "metadata": {},
   "outputs": [
    {
     "data": {
      "text/plain": [
       "20"
      ]
     },
     "execution_count": 142,
     "metadata": {},
     "output_type": "execute_result"
    }
   ],
   "source": [
    "V(5,2)          # Un ejemplo de aplicaciones inyectivas de un conjunto de 2 elementos en otro de 5"
   ]
  },
  {
   "cell_type": "code",
   "execution_count": 143,
   "metadata": {},
   "outputs": [],
   "source": [
    "def T(n,k):\n",
    "    t = 0\n",
    "    for i in range(0,k):\n",
    "        t += combs(k,i)*(-1)**i*(k-i)**n\n",
    "    return t"
   ]
  },
  {
   "cell_type": "code",
   "execution_count": 144,
   "metadata": {},
   "outputs": [
    {
     "data": {
      "text/plain": [
       "150.0"
      ]
     },
     "execution_count": 144,
     "metadata": {},
     "output_type": "execute_result"
    }
   ],
   "source": [
    "T(5,3)"
   ]
  },
  {
   "cell_type": "markdown",
   "metadata": {},
   "source": [
    "También se puede calcular como $S(n,k)\\times k!$"
   ]
  },
  {
   "cell_type": "code",
   "execution_count": 145,
   "metadata": {},
   "outputs": [],
   "source": [
    "def T_(n,k):\n",
    "    return perm(k)*Stirling2(n,k)"
   ]
  },
  {
   "cell_type": "code",
   "execution_count": 146,
   "metadata": {},
   "outputs": [
    {
     "data": {
      "text/plain": [
       "150"
      ]
     },
     "execution_count": 146,
     "metadata": {},
     "output_type": "execute_result"
    }
   ],
   "source": [
    "T_(5,3)"
   ]
  },
  {
   "cell_type": "markdown",
   "metadata": {},
   "source": [
    "#### Desbarajustes"
   ]
  },
  {
   "cell_type": "markdown",
   "metadata": {},
   "source": [
    "Los desbarajustes de $n$ son las formas de ordenar n elementos de forma que ninguno de ellos quede en su sitio, cumplen la ecuación:\n",
    "\n",
    "$D(1)=0, D(n)=n\\times D(n-1) + (-1)^n$"
   ]
  },
  {
   "cell_type": "code",
   "execution_count": 147,
   "metadata": {},
   "outputs": [],
   "source": [
    "def D(n):\n",
    "    if n <= 1:\n",
    "        return 0\n",
    "    return n*D(n-1)+(-1)**n\n",
    "    "
   ]
  },
  {
   "cell_type": "code",
   "execution_count": 148,
   "metadata": {},
   "outputs": [
    {
     "data": {
      "text/plain": [
       "1854"
      ]
     },
     "execution_count": 148,
     "metadata": {},
     "output_type": "execute_result"
    }
   ],
   "source": [
    "D(7)"
   ]
  },
  {
   "cell_type": "markdown",
   "metadata": {},
   "source": [
    "Aunque podemos definirla por una fórmula iterativa:\n",
    "\n",
    "$D(n)=n!\\times \\sum_{i=0}^{n}{\\frac{(-1)^i}{i!}}$"
   ]
  },
  {
   "cell_type": "code",
   "execution_count": 149,
   "metadata": {},
   "outputs": [],
   "source": [
    "def D(n):\n",
    "    suma = 0\n",
    "    for i in range(0,n+1):\n",
    "        suma += (-1)**i/factorial(i)\n",
    "    return factorial(n)*suma"
   ]
  },
  {
   "cell_type": "code",
   "execution_count": 150,
   "metadata": {},
   "outputs": [
    {
     "data": {
      "text/plain": [
       "1854"
      ]
     },
     "execution_count": 150,
     "metadata": {},
     "output_type": "execute_result"
    }
   ],
   "source": [
    "D(7)"
   ]
  }
 ],
 "metadata": {
  "anaconda-cloud": {},
  "kernelspec": {
   "display_name": "Python 3",
   "language": "python",
   "name": "python3"
  },
  "language_info": {
   "codemirror_mode": {
    "name": "ipython",
    "version": 3
   },
   "file_extension": ".py",
   "mimetype": "text/x-python",
   "name": "python",
   "nbconvert_exporter": "python",
   "pygments_lexer": "ipython3",
   "version": "3.5.3"
  }
 },
 "nbformat": 4,
 "nbformat_minor": 1
}
